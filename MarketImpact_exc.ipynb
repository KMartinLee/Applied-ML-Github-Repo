{
 "cells": [
  {
   "cell_type": "code",
   "execution_count": 1,
   "id": "b06f05bc",
   "metadata": {},
   "outputs": [],
   "source": [
    "import pandas as pd\n",
    "import numpy as np\n",
    "from datetime import timedelta"
   ]
  },
  {
   "cell_type": "code",
   "execution_count": 3,
   "id": "99d221df",
   "metadata": {},
   "outputs": [
    {
     "name": "stdout",
     "output_type": "stream",
     "text": [
      "Collecting openpyxl\n",
      "  Using cached openpyxl-3.1.5-py2.py3-none-any.whl.metadata (2.5 kB)\n",
      "Collecting et-xmlfile (from openpyxl)\n",
      "  Using cached et_xmlfile-2.0.0-py3-none-any.whl.metadata (2.7 kB)\n",
      "Using cached openpyxl-3.1.5-py2.py3-none-any.whl (250 kB)\n",
      "Using cached et_xmlfile-2.0.0-py3-none-any.whl (18 kB)\n",
      "Installing collected packages: et-xmlfile, openpyxl\n",
      "\u001b[2K   \u001b[90m━━━━━━━━━━━━━━━━━━━━━━━━━━━━━━━━━━━━━━━━\u001b[0m \u001b[32m2/2\u001b[0m [openpyxl]1/2\u001b[0m [openpyxl]\n",
      "\u001b[1A\u001b[2KSuccessfully installed et-xmlfile-2.0.0 openpyxl-3.1.5\n"
     ]
    }
   ],
   "source": [
    "!pip install openpyxl"
   ]
  },
  {
   "cell_type": "code",
   "execution_count": 4,
   "id": "a9019efc",
   "metadata": {},
   "outputs": [],
   "source": [
    "# Load data\n",
    "market_df = pd.read_excel(\"CL_Datasim.xlsx\", engine=\"openpyxl\")\n",
    "tweets_df = pd.read_excel(\"merged_tweets.xlsx\", engine=\"openpyxl\")"
   ]
  },
  {
   "cell_type": "code",
   "execution_count": 5,
   "id": "c9ddc600",
   "metadata": {},
   "outputs": [],
   "source": [
    "# Parse datetime\n",
    "market_df[\"Dates\"] = pd.to_datetime(market_df[\"Dates\"])\n",
    "tweets_df[\"Timestamp\"] = pd.to_datetime(tweets_df[\"Timestamp\"], utc=True).dt.tz_convert(None)"
   ]
  },
  {
   "cell_type": "code",
   "execution_count": 6,
   "id": "2bb139e8",
   "metadata": {},
   "outputs": [],
   "source": [
    "# Compute Mid_Price\n",
    "market_df[\"Mid_Price\"] = market_df[[\"Mid_Open\", \"Mid_High\", \"Mid_Low\", \"Mid_Close\"]].mean(axis=1)"
   ]
  },
  {
   "cell_type": "code",
   "execution_count": 7,
   "id": "16c57669",
   "metadata": {},
   "outputs": [],
   "source": [
    "# Set Dates as index for fast access\n",
    "market_df.set_index(\"Dates\", inplace=True)"
   ]
  },
  {
   "cell_type": "code",
   "execution_count": 8,
   "id": "32cf1277",
   "metadata": {},
   "outputs": [],
   "source": [
    "# Time horizons to evaluate impact\n",
    "time_horizons = {\n",
    "    \"MI_1min\": timedelta(minutes=1),\n",
    "    \"MI_5min\": timedelta(minutes=5),\n",
    "    \"MI_15min\": timedelta(minutes=15),\n",
    "    \"MI_30min\": timedelta(minutes=30),\n",
    "    \"MI_1h\": timedelta(hours=1),\n",
    "    \"MI_2h\": timedelta(hours=2),\n",
    "    \"MI_4h\": timedelta(hours=4),\n",
    "    \"MI_8h\": timedelta(hours=8),\n",
    "    \"MI_12h\": timedelta(hours=12),\n",
    "    \"MI_1d\": timedelta(days=1),\n",
    "    \"MI_2d\": timedelta(days=2),\n",
    "    \"MI_3d\": timedelta(days=3),\n",
    "    \"MI_4d\": timedelta(days=4),\n",
    "}"
   ]
  },
  {
   "cell_type": "code",
   "execution_count": null,
   "id": "e5624775",
   "metadata": {},
   "outputs": [],
   "source": [
    "results = []\n",
    "\n",
    "for _, row in tweets_df.iterrows():\n",
    "    tweet_time = row[\"Timestamp\"]\n",
    "    tweet_id = row[\"tweet_id\"]\n",
    "    tweet_text = row[\"Tweet\"]\n",
    "\n",
    "    # Determine execution time\n",
    "    base_time = market_df.index[market_df.index <= tweet_time].max()\n",
    "    if pd.isna(base_time):\n",
    "        continue\n",
    "\n",
    "    if tweet_time not in market_df.index:\n",
    "        # Market closed: use last price before and delay metrics\n",
    "        execution_time = base_time\n",
    "        execution_price = market_df.loc[execution_time, \"Mid_Open\"]\n",
    "        delayed_flag = True\n",
    "    else:\n",
    "        execution_time = tweet_time\n",
    "        execution_price = market_df.loc[execution_time, \"Mid_Open\"]\n",
    "        delayed_flag = False\n",
    "\n",
    "    impact_row = {\n",
    "        \"tweet_ID\": tweet_id,\n",
    "        \"Timestamp\": tweet_time,\n",
    "        \"Tweet\": tweet_text,\n",
    "        \"Mid_Open_Execution\": execution_price,\n",
    "        \"Execution_Delayed\": delayed_flag\n",
    "    }\n",
    "\n",
    "    for label, delta in time_horizons.items():\n",
    "        if delayed_flag:\n",
    "            # Delay: anchor interval deltas from the *first tradable minute after tweet*\n",
    "            anchor_time = market_df.index[market_df.index > tweet_time].min()\n",
    "        else:\n",
    "            anchor_time = tweet_time\n",
    "\n",
    "        target_time = anchor_time + delta\n",
    "        future_time = market_df.index[market_df.index >= target_time].min()\n",
    "\n",
    "        if pd.isna(future_time):\n",
    "            impact_row[f\"{label}_MidOpen\"] = np.nan\n",
    "            impact_row[f\"{label}_MidClose\"] = np.nan\n",
    "            impact_row[f\"{label}_VolumeImpact_%\"] = np.nan\n",
    "            impact_row[f\"{label}_SpreadImpact_bps\"] = np.nan\n",
    "            impact_row[f\"{label}_VWAPImpact_bps\"] = np.nan\n",
    "            impact_row[f\"{label}_AvgSizeImpact_%\"] = np.nan\n",
    "            impact_row[f\"{label}_TickImpact_%\"] = np.nan\n",
    "            continue\n",
    "\n",
    "        # Market Impact\n",
    "        try:\n",
    "            future_open = market_df.loc[future_time, \"Mid_Open\"]\n",
    "            impact_row[f\"{label}_MidOpen\"] = ((future_open - execution_price) / execution_price) * 10000\n",
    "        except KeyError:\n",
    "            impact_row[f\"{label}_MidOpen\"] = np.nan\n",
    "\n",
    "        try:\n",
    "            future_close = market_df.loc[future_time, \"Mid_Close\"]\n",
    "            impact_row[f\"{label}_MidClose\"] = ((future_close - execution_price) / execution_price) * 10000\n",
    "        except KeyError:\n",
    "            impact_row[f\"{label}_MidClose\"] = np.nan\n",
    "    results.append(impact_row)\n",
    "    \n",
    "    \n",
    "# Save to Excel\n",
    "impact_df = pd.DataFrame(results)\n",
    "impact_df.to_excel(\"tweet_market_impact.xlsx\", index=False)"
   ]
  }
 ],
 "metadata": {
  "kernelspec": {
   "display_name": "Python 3",
   "language": "python",
   "name": "python3"
  },
  "language_info": {
   "codemirror_mode": {
    "name": "ipython",
    "version": 3
   },
   "file_extension": ".py",
   "mimetype": "text/x-python",
   "name": "python",
   "nbconvert_exporter": "python",
   "pygments_lexer": "ipython3",
   "version": "3.11.8"
  }
 },
 "nbformat": 4,
 "nbformat_minor": 5
}
