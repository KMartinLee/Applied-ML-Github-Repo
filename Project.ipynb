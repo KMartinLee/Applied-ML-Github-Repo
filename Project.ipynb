{
 "cells": [
  {
   "cell_type": "code",
   "execution_count": 18,
   "id": "9e965f07",
   "metadata": {},
   "outputs": [
    {
     "name": "stdout",
     "output_type": "stream",
     "text": [
      "✅  Saved 13,703 rows → /Users/kilian_1/Desktop/Programming/Applied Machine Learning/Project/merged_tweets.xlsx\n"
     ]
    }
   ],
   "source": [
    "from pathlib import Path\n",
    "import pandas as pd\n",
    "\n",
    "# 🔧 1) Point this at your folder of Excel files\n",
    "folder = Path(\"/Users/kilian_1/Desktop/Programming/Applied Machine Learning/Project/downloaded_tweets\")\n",
    "\n",
    "# 🔧 2) Name (and location) of the merged workbook\n",
    "out_file = folder.parent / \"merged_tweets.xlsx\"\n",
    "\n",
    "# ---------------------------------------------------------------------\n",
    "frames = []\n",
    "for f in folder.glob(\"*_tweets.xlsx\"):\n",
    "    if f.name.startswith(\"~$\"):          # skip Office lock files\n",
    "        continue\n",
    "    df = pd.read_excel(f)\n",
    "    df[\"author\"] = f.stem.replace(\"_tweets\", \"\")\n",
    "    frames.append(df)\n",
    "\n",
    "if not frames:\n",
    "    raise RuntimeError(f\"No *_tweets.xlsx files found in {folder}\")\n",
    "\n",
    "merged = pd.concat(frames, ignore_index=True)\n",
    "merged.to_excel(out_file, index=False)\n",
    "print(f\"✅  Saved {len(merged):,} rows → {out_file}\")\n"
   ]
  },
  {
   "cell_type": "code",
   "execution_count": 2,
   "id": "ee323d21",
   "metadata": {},
   "outputs": [
    {
     "name": "stdout",
     "output_type": "stream",
     "text": [
      "                     Timestamp  \\\n",
      "0   Oct 28, 2024 · 4:02 PM UTC   \n",
      "1   Oct 14, 2024 · 8:30 PM UTC   \n",
      "2  Sep 27, 2024 · 10:21 PM UTC   \n",
      "3    Sep 9, 2024 · 1:37 PM UTC   \n",
      "4    Aug 6, 2024 · 2:42 PM UTC   \n",
      "\n",
      "                                               Tweet        author    0    1  \n",
      "0  Honored to celebrate @USEnergyAssn‘s 100th Ann...  DanielYergin  NaN  NaN  \n",
      "1  The #oil market is fixated on two places at on...  DanielYergin  NaN  NaN  \n",
      "2  The global #oil market may be keeping a keen e...  DanielYergin  NaN  NaN  \n",
      "3  The rise of the US as the world’s #1 energy pr...  DanielYergin  NaN  NaN  \n",
      "4  That oil markets have not preemptively priced ...  DanielYergin  NaN  NaN  \n"
     ]
    }
   ],
   "source": [
    "import pandas as pd\n",
    "df = pd.read_excel('/Users/kilian_1/Desktop/Programming/Applied Machine Learning/Project/merged_tweets.xlsx')\n",
    "\n",
    "print(df.head(5))\n"
   ]
  },
  {
   "cell_type": "code",
   "execution_count": null,
   "id": "bb2404ef",
   "metadata": {},
   "outputs": [],
   "source": [
    "import nltk\n",
    "nltk.download('stopwords')\n",
    "nltk.download('wordnet')\n",
    "\n",
    "# Initialize lemmatizer\n",
    "from nltk.stem import WordNetLemmatizer\n",
    "lemmatizer = WordNetLemmatizer()\n",
    "\n",
    "# Define stop words\n",
    "from nltk.corpus import stopwords\n",
    "stop_words = set(stopwords.words('english'))\n",
    "\n",
    "# Function to handle negations\n",
    "import re\n",
    "def handle_negations(text):\n",
    "    negations_pattern = re.compile(r'\\b(?:never|no|nothing|nowhere|noone|none|not|havent|hasnt|hadnt|cant|couldnt|shouldnt|wont|wouldnt|dont|doesnt|didnt|isnt|arent|aint)\\b')\n",
    "    text = negations_pattern.sub(lambda x: x.group() + '_NEG', text)\n",
    "    return text"
   ]
  }
 ],
 "metadata": {
  "kernelspec": {
   "display_name": "Python 3",
   "language": "python",
   "name": "python3"
  },
  "language_info": {
   "codemirror_mode": {
    "name": "ipython",
    "version": 3
   },
   "file_extension": ".py",
   "mimetype": "text/x-python",
   "name": "python",
   "nbconvert_exporter": "python",
   "pygments_lexer": "ipython3",
   "version": "3.13.0"
  }
 },
 "nbformat": 4,
 "nbformat_minor": 5
}
